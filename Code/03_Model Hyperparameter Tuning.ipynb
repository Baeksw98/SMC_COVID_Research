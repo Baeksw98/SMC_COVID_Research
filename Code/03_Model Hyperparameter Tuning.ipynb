{
 "cells": [
  {
   "cell_type": "markdown",
   "id": "84c28e3e-26b2-4e9d-938b-4d3bb5be6419",
   "metadata": {
    "tags": []
   },
   "source": [
    "## ML algorithms HyperOpt Search\n",
    "* Sangwon Baek\n",
    "* March 10th, 2023"
   ]
  },
  {
   "cell_type": "code",
   "execution_count": 1,
   "id": "ee89aba6-238d-433f-9bdf-8407ebca5040",
   "metadata": {},
   "outputs": [],
   "source": [
    "from hyperopt import tpe, STATUS_OK, Trials, hp, fmin, STATUS_OK, space_eval\n",
    "import pandas as pd\n",
    "import numpy as np\n",
    "\n",
    "import matplotlib.pyplot as plt\n",
    "import seaborn as sns\n",
    "\n",
    "from scipy.stats import kstest, norm, mannwhitneyu, chi2_contingency, fisher_exact, ttest_ind, zscore\n",
    "\n",
    "from sklearn.preprocessing import MinMaxScaler, StandardScaler\n",
    "from sklearn.model_selection import train_test_split, cross_validate, GridSearchCV, cross_val_score, ParameterGrid, StratifiedKFold, RepeatedStratifiedKFold\n",
    "from sklearn.svm import SVC\n",
    "from sklearn.linear_model import LogisticRegression\n",
    "from sklearn.ensemble import RandomForestClassifier\n",
    "from xgboost import XGBClassifier, plot_importance\n",
    "from lightgbm import LGBMClassifier\n",
    "from sklearn.ensemble import GradientBoostingClassifier\n",
    "from tqdm import tqdm \n",
    "import time \n",
    "from sklearn.inspection import permutation_importance\n",
    "from sklearn.metrics import precision_recall_fscore_support as score\n",
    "\n",
    "from sklearn.metrics import confusion_matrix, roc_curve, roc_auc_score, accuracy_score, auc\n",
    "from statsmodels.stats import contingency_tables\n",
    "\n",
    "pd.options.mode.chained_assignment = None\n",
    "pd.set_option('display.max_columns', 200)\n",
    "pd.set_option('display.max_rows', 100)"
   ]
  },
  {
   "cell_type": "code",
   "execution_count": 2,
   "id": "9e39540f-73a1-4452-a361-bcb421d8fe54",
   "metadata": {},
   "outputs": [],
   "source": [
    "#Read csv file using pandas\n",
    "df2 = pd.read_csv('../Data/Preprocessed/CRF_DD_removed.csv', low_memory=False)\n",
    "df2 = df2.drop(columns='Unnamed: 0')\n",
    "\n",
    "na_cols = ['UD_HT','UD_DM','UD_CVD','UD_cancer','UD_other','SMT_fever','SMT_cough','SMT_sputum','SMT_dyspnea',\n",
    "          'SMT_myalgia', 'SMT_sorethroat', 'SMT_mental', 'SMT_GI', 'steroid']\n",
    "df2[na_cols] = df2[na_cols].fillna(value=0)\n",
    "\n",
    "#Remove D-Dimer from the dataframe\n",
    "ColumnNames = ['No', 'ID', 'age', 'sex', 'dx_date', 'hospitalized_date', 'UD_HT', 'UD_DM', 'UD_CVD', 'UD_cancer',\n",
    "              'UD_other', 'SMT_fever', 'SMT_cough', 'SMT_sputum', 'SMT_dyspnea', 'SMT_myalgia',\n",
    "              'SMT_sorethroat', 'SMT_mental', 'SMT_GI', 'TX_0', 'TX_1', 'TX_2', 'TX_3', 'TX_4', \n",
    "               'Smoking_0', 'Smoking_1', 'Smoking_2', 'Smoking_3', 'BT', 'SBP', \n",
    "               'DBP', 'PR', 'RR', 'SPO2', 'WBC', 'ANC', 'ALC', 'PLT', 'CRP', 'LDH', \n",
    "               'DD', 'PCR', 'steroid', 'Mild','Moderate','Severe']\n",
    "df2 = df2[ColumnNames].drop(columns = 'DD')\n",
    "\n",
    "#Separate DF into validation and developmentsets\n",
    "DevelopmentSet = df2.loc[~df2['ID'].isin(['SCH', 'SCN' 'SMC', 'JNU'])]\n",
    "ValidationSet = df2.loc[df2['ID'].isin(['SCH', 'SCN' 'SMC', 'JNU'])]\n",
    "\n",
    "#Convert the train and test dataset into X and Y\n",
    "drop_columns_original = ['hospitalized_date', 'Mild','Moderate','Severe', 'dx_date', 'No', 'ID', 'PCR', 'steroid', 'TX_0', 'TX_1', 'TX_2', 'TX_3', 'TX_4', 'Smoking_0', 'Smoking_1', 'Smoking_2', 'Smoking_3']\n",
    "DevelopmentSet_X = DevelopmentSet.drop(columns=drop_columns_original).values\n",
    "DevelopmentSet_Y = DevelopmentSet[['Severe']].values.ravel()\n",
    "ValidationSet_X = ValidationSet.drop(columns=drop_columns_original).values\n",
    "ValidationSet_Y = ValidationSet[['Severe']].values.ravel()\n",
    "\n",
    "#Standardize the dataset through standardScaler - No need to separate the dataset into train/test because we use 5fold CV for testing purpose \n",
    "scaler = StandardScaler()\n",
    "scaler.fit(DevelopmentSet_X)\n",
    "DevelopmentSet_X = scaler.transform(DevelopmentSet_X)\n",
    "scaler.fit(ValidationSet_X)\n",
    "ValidationSet_X = scaler.transform(ValidationSet_X)"
   ]
  },
  {
   "cell_type": "markdown",
   "id": "9df8a4c7-8764-489a-8405-a72f21896ccd",
   "metadata": {
    "tags": []
   },
   "source": [
    "### Stratified K fold - Setting Parameters"
   ]
  },
  {
   "cell_type": "code",
   "execution_count": 3,
   "id": "262245fb-cece-492b-8750-2d75566c6fad",
   "metadata": {},
   "outputs": [],
   "source": [
    "#Parameter setting for GridSearchCV\n",
    "rf = RandomForestClassifier()\n",
    "mlr = LogisticRegression()\n",
    "xgb = XGBClassifier()\n",
    "gbm = GradientBoostingClassifier()\n",
    "svm = SVC()\n",
    "\n",
    "#Stratified 5 Fold CV\n",
    "cv = RepeatedStratifiedKFold(n_splits=5, n_repeats=5, random_state=0)"
   ]
  },
  {
   "cell_type": "markdown",
   "id": "f7e16a14-6a35-48c5-b7ad-6d9fd0d2c894",
   "metadata": {
    "tags": []
   },
   "source": [
    "### Bayesian Optimization: HyperOPT"
   ]
  },
  {
   "cell_type": "code",
   "execution_count": 10,
   "id": "b78875b4-e5f4-4cf3-9790-94ba7c8ae5fc",
   "metadata": {},
   "outputs": [],
   "source": [
    "xgb_space = {'learning_rate': hp.choice('learning_rate', [0.001, 0.002, 0.003, 0.004, 0.005, 0.006, 0.007, 0.008, 0.009, 0.01, 0.02, 0.03, 0.04, 0.05, 0.06, 0.07, 0.08, 0.09, 0.1, \n",
    "                                                 0.15, 0.2, 0.25, 0.3, 0.35, 0.4, 0.45, 0.5, 0.55, 0.6, 0.65, 0.7, 0.75, 0.8, 0.85, 0.9]),\n",
    "              'max_depth' : hp.choice('max_depth', [i for i in range (3,20)]),\n",
    "              'gamma' : hp.choice('gamma', [i/20.0 for i in range(0,20)]),\n",
    "              'min_child_weight' : hp.choice('min_child_weight', [3,4,5,6,7,8,9,10,11,12,13,14,15]),     \n",
    "              'eta' : hp.choice(\"eta\", [0.01, 0.02, 0.03, 0.04, 0.05, 0.06, 0.07, 0.08, 0.09, 0.1, 0.12, 0.15, 0.18, 0.2, 0.22, 0.25, 0.3, 0.35, 0.4, 0.5, 0.6, 0.7, 0.8]), \n",
    "              'nthread' : hp.choice(\"nthread\", [3,4,5,6,7,8,9,10]), \n",
    "              'colsample_bytree':hp.choice('colsample_bytree', [0.3,0.4,0.5,0.6,0.7,0.8,0.9,1])}\n",
    "# GBM              \n",
    "gbm_space = {\"max_depth\" : hp.choice('max_depth', [i for i in range (3,20)]),\n",
    "             \"learning_rate\" : hp.choice('learning_rate', [0.001, 0.005, 0.01, 0.02, 0.03, 0.04, 0.05, 0.06, 0.07, 0.08, 0.09, 0.1, \n",
    "                                                 0.15, 0.2, 0.25, 0.3, 0.35, 0.4, 0.45, 0.5, 0.55, 0.6, 0.65, 0.7, 0.75, 0.8, 0.85, 0.9]),\n",
    "             \"n_estimators\" : hp.choice('n_estimators', [i for i in range(50,300)])}\n",
    "\n",
    "# MLR\n",
    "mlr_space = { 'C' : hp.choice('C', [0.0001, 0.0005, 0.001, 0.002, 0.003, 0.004, 0.005, 0.006, 0.007, 0.008, 0.009, \n",
    "                     0.01, 0.02, 0.03, 0.04, 0.05, 0.06, 0.07, 0.08, 0.09, 0.1, 0.15, 0.2, 0.25, 0.3, \n",
    "                     0.35, 0.4, 0.45, 0.5, 0.55, 0.6, 0.65, 0.7, 0.75, 0.8, 0.85, 0.9, 0.95, 1]),\n",
    "              'max_iter': hp.choice('max_iter', [i*5 for i in range (10,60)]),\n",
    "              'solver': hp.choice('solver', ['liblinear', 'lbfgs']),\n",
    "              'penalty': hp.choice('penalty', ['l2','l1', 'None'])}\n",
    "\n",
    "# Random Forest\n",
    "rf_space = {'n_estimators': hp.choice('n_estimators', [i for i in range(50,400)]),\n",
    "            'max_depth': hp.choice('max_depth', [i for i in range (2,30)]),\n",
    "            'min_samples_split': hp.choice('min_samples_split', [i for i in range (2,15)]),\n",
    "            'max_features':hp.choice('max_features', ['sqrt','log2']),\n",
    "            'criterion': hp.choice('criterion', ['gini','entropy'])}\n",
    "\n",
    "# Support Vector Machine\n",
    "svm_space = {'C': hp.choice('C', [0.0001, 0.0005, 0.001, 0.002, 0.003, 0.004, 0.005, 0.006, 0.007, 0.008, 0.009, \n",
    "                     0.01, 0.02, 0.03, 0.04, 0.05, 0.06, 0.07, 0.08, 0.09, 0.1, 0.15, 0.2, 0.25, 0.3, \n",
    "                     0.35, 0.4, 0.45, 0.5, 0.55, 0.6, 0.65, 0.7, 0.75, 0.8, 0.85, 0.9, 0.95, 1]),\n",
    "            'kernel': hp.choice('kernel', ['rbf']),\n",
    "            'gamma': hp.choice('gamma',['scale', 'auto']),\n",
    "            'probability': hp.choice('probability', [True])}"
   ]
  },
  {
   "cell_type": "code",
   "execution_count": 8,
   "id": "b29369a6-3707-4183-ae81-8bde19b20fbc",
   "metadata": {},
   "outputs": [],
   "source": [
    "def objective(estimator, params, X, y, cv, scoring):\n",
    "    score = cross_val_score(estimator=estimator, \n",
    "                            X=X, \n",
    "                            y=y, \n",
    "                            cv=cv, \n",
    "                            scoring=scoring, \n",
    "                            n_jobs=-1).mean()\n",
    "    # Loss is negative score\n",
    "    loss = - score\n",
    "    # Dictionary with information for evaluation\n",
    "    return {'loss': loss, 'params': params, 'status': STATUS_OK}\n",
    "\n",
    "def optimize(estimator, X, y, cv, space, scoring, max_evals=200):\n",
    "    def wrapped_objective(params):\n",
    "        return objective(estimator, params, X, y, cv, scoring)\n",
    "    \n",
    "    best_rf = fmin(fn=wrapped_objective, space=space, algo=tpe.suggest, max_evals=max_evals, trials=Trials())\n",
    "    return best_rf"
   ]
  },
  {
   "cell_type": "code",
   "execution_count": 11,
   "id": "6b2c1557-c16c-48a4-9615-bd3e81c8964d",
   "metadata": {},
   "outputs": [
    {
     "name": "stdout",
     "output_type": "stream",
     "text": [
      "100%|██████████| 200/200 [05:01<00:00,  1.51s/trial, best loss: -0.8964549617712546]\n",
      "{'criterion': 0, 'max_depth': 24, 'max_features': 1, 'min_samples_split': 11, 'n_estimators': 149}\n",
      "{'criterion': 'gini', 'max_depth': 26, 'max_features': 'log2', 'min_samples_split': 13, 'n_estimators': 199}\n"
     ]
    }
   ],
   "source": [
    "#RF\n",
    "best_rf = optimize(estimator=rf, X=DevelopmentSet_X, y=DevelopmentSet_Y, cv=cv, space=rf_space, scoring='roc_auc')\n",
    "print(best_rf)\n",
    "print(space_eval(rf_space, best_rf))"
   ]
  },
  {
   "cell_type": "code",
   "execution_count": 9,
   "id": "fe829f86-0c83-4dc5-9354-20716b8c1050",
   "metadata": {},
   "outputs": [
    {
     "name": "stdout",
     "output_type": "stream",
     "text": [
      "100%|██████████| 200/200 [00:12<00:00, 15.49trial/s, best loss: -0.8864817281162428]\n",
      "{'C': 7, 'max_iter': 15, 'penalty': 2, 'solver': 1}\n",
      "{'C': 0.006, 'max_iter': 125, 'penalty': 'None', 'solver': 'lbfgs'}\n"
     ]
    }
   ],
   "source": [
    "#MLR\n",
    "best_mlr = optimize(estimator=mlr, X=DevelopmentSet_X, y=DevelopmentSet_Y, cv=cv, space=mlr_space, scoring='roc_auc')\n",
    "print(best_mlr)\n",
    "print(space_eval(mlr_space, best_mlr))"
   ]
  },
  {
   "cell_type": "code",
   "execution_count": 8,
   "id": "0d47ea3b-9e07-4fec-975e-93c07a121fbd",
   "metadata": {},
   "outputs": [
    {
     "name": "stdout",
     "output_type": "stream",
     "text": [
      "100%|██████████| 200/200 [04:12<00:00,  1.26s/trial, best loss: -0.8824584041946986]\n",
      "{'colsample_bytree': 1, 'eta': 13, 'gamma': 15, 'learning_rate': 25, 'max_depth': 15, 'min_child_weight': 11, 'nthread': 3}\n",
      "{'colsample_bytree': 0.4, 'eta': 0.2, 'gamma': 0.75, 'learning_rate': 0.45, 'max_depth': 18, 'min_child_weight': 14, 'nthread': 6}\n"
     ]
    }
   ],
   "source": [
    "#XGB\n",
    "best_xgb = optimize(estimator=xgb, X=DevelopmentSet_X, y=DevelopmentSet_Y, cv=cv, space=xgb_space, scoring='roc_auc')\n",
    "print(best_xgb)\n",
    "print(space_eval(xgb_space, best_xgb))"
   ]
  },
  {
   "cell_type": "code",
   "execution_count": 9,
   "id": "b74bd4e5-023c-447c-93b7-c9c4b2d28209",
   "metadata": {},
   "outputs": [
    {
     "name": "stdout",
     "output_type": "stream",
     "text": [
      "100%|██████████| 200/200 [06:16<00:00,  1.88s/trial, best loss: -0.8957368245201058]\n",
      "{'learning_rate': 12, 'max_depth': 7, 'n_estimators': 41}\n",
      "{'learning_rate': 0.15, 'max_depth': 10, 'n_estimators': 91}\n"
     ]
    }
   ],
   "source": [
    "#GBM\n",
    "best_gbm = optimize(estimator=gbm, X=DevelopmentSet_X, y=DevelopmentSet_Y, cv=cv, space=gbm_space, scoring='roc_auc')\n",
    "print(best_gbm)\n",
    "print(space_eval(gbm_space, best_gbm))"
   ]
  },
  {
   "cell_type": "code",
   "execution_count": 6,
   "id": "e5fcbbc6-3852-477e-a384-61a3fa944212",
   "metadata": {},
   "outputs": [
    {
     "name": "stdout",
     "output_type": "stream",
     "text": [
      "100%|██████████| 200/200 [02:39<00:00,  1.26trial/s, best loss: -0.865977330414002]\n",
      "{'C': 34, 'gamma': 1, 'kernel': 0, 'probability': 0}\n",
      "{'C': 0.8, 'gamma': 'auto', 'kernel': 'rbf', 'probability': True}\n"
     ]
    }
   ],
   "source": [
    "#SVM\n",
    "best_svm = optimize(estimator=svm, X=DevelopmentSet_X, y=DevelopmentSet_Y, cv=cv, space=svm_space, scoring='roc_auc')\n",
    "print(best_svm)\n",
    "print(space_eval(svm_space, best_svm))"
   ]
  },
  {
   "cell_type": "code",
   "execution_count": null,
   "id": "b2de685b-cb52-43c3-a0b8-e0e9381b44e9",
   "metadata": {},
   "outputs": [],
   "source": [
    "gscv_xgb = GridSearchCV (estimator = xgb, param_grid = param_xgb, scoring ='accuracy', cv = cv, refit=True, n_jobs=-1, verbose=1)\n",
    "gscv_lgb = GridSearchCV (estimator = lgb, param_grid = param_lgb, scoring ='accuracy', cv = cv, refit=True, n_jobs=-1, verbose=1)\n",
    "gscv_gbm = GridSearchCV (estimator = gbm, param_grid = param_gbm, scoring ='accuracy', cv = cv, refit=True, n_jobs=-1, verbose=1)\n",
    "gscv_mlr = GridSearchCV (estimator = mlr, param_grid = param_mlr, scoring ='accuracy', cv = cv, refit=True, n_jobs=-1, verbose=1)\n",
    "gscv_rf = GridSearchCV (estimator = rf, param_grid = param_rf, scoring ='accuracy', cv = cv, refit=True, n_jobs=-1, verbose=1)\n",
    "gscv_svm = GridSearchCV (estimator = svm, param_grid = param_svm, scoring ='accuracy', cv = cv, refit=True, n_jobs=-1, verbose=1)"
   ]
  },
  {
   "cell_type": "code",
   "execution_count": null,
   "id": "852fc733-48ae-4e1e-adef-7f0b0b5bf4fc",
   "metadata": {},
   "outputs": [
    {
     "name": "stdout",
     "output_type": "stream",
     "text": [
      "Fitting 5 folds for each of 1300 candidates, totalling 6500 fits\n"
     ]
    }
   ],
   "source": [
    "gscv_xgb.fit(DevelopmentSet_X, DevelopmentSet_Y)"
   ]
  },
  {
   "cell_type": "code",
   "execution_count": 7,
   "id": "65087955-ca5b-423e-ac51-2e1c16a78694",
   "metadata": {},
   "outputs": [
    {
     "name": "stdout",
     "output_type": "stream",
     "text": [
      "XGB parameter:  {'eta': 0.05, 'max_depth': 5, 'min_child_weight': 7, 'nthread': 3}\n",
      "XGB prediction accuracy: 0.8918\n"
     ]
    }
   ],
   "source": [
    "print('XGB parameter: ', gscv_xgb.best_params_)\n",
    "print('XGB prediction accuracy: {:.4f}'.format(gscv_xgb.best_score_))"
   ]
  },
  {
   "cell_type": "code",
   "execution_count": 8,
   "id": "89679a62-63a5-44d6-8434-79ac2d8f36a6",
   "metadata": {},
   "outputs": [
    {
     "name": "stdout",
     "output_type": "stream",
     "text": [
      "Fitting 5 folds for each of 3969 candidates, totalling 19845 fits\n"
     ]
    },
    {
     "data": {
      "text/html": [
       "<style>#sk-container-id-2 {color: black;background-color: white;}#sk-container-id-2 pre{padding: 0;}#sk-container-id-2 div.sk-toggleable {background-color: white;}#sk-container-id-2 label.sk-toggleable__label {cursor: pointer;display: block;width: 100%;margin-bottom: 0;padding: 0.3em;box-sizing: border-box;text-align: center;}#sk-container-id-2 label.sk-toggleable__label-arrow:before {content: \"▸\";float: left;margin-right: 0.25em;color: #696969;}#sk-container-id-2 label.sk-toggleable__label-arrow:hover:before {color: black;}#sk-container-id-2 div.sk-estimator:hover label.sk-toggleable__label-arrow:before {color: black;}#sk-container-id-2 div.sk-toggleable__content {max-height: 0;max-width: 0;overflow: hidden;text-align: left;background-color: #f0f8ff;}#sk-container-id-2 div.sk-toggleable__content pre {margin: 0.2em;color: black;border-radius: 0.25em;background-color: #f0f8ff;}#sk-container-id-2 input.sk-toggleable__control:checked~div.sk-toggleable__content {max-height: 200px;max-width: 100%;overflow: auto;}#sk-container-id-2 input.sk-toggleable__control:checked~label.sk-toggleable__label-arrow:before {content: \"▾\";}#sk-container-id-2 div.sk-estimator input.sk-toggleable__control:checked~label.sk-toggleable__label {background-color: #d4ebff;}#sk-container-id-2 div.sk-label input.sk-toggleable__control:checked~label.sk-toggleable__label {background-color: #d4ebff;}#sk-container-id-2 input.sk-hidden--visually {border: 0;clip: rect(1px 1px 1px 1px);clip: rect(1px, 1px, 1px, 1px);height: 1px;margin: -1px;overflow: hidden;padding: 0;position: absolute;width: 1px;}#sk-container-id-2 div.sk-estimator {font-family: monospace;background-color: #f0f8ff;border: 1px dotted black;border-radius: 0.25em;box-sizing: border-box;margin-bottom: 0.5em;}#sk-container-id-2 div.sk-estimator:hover {background-color: #d4ebff;}#sk-container-id-2 div.sk-parallel-item::after {content: \"\";width: 100%;border-bottom: 1px solid gray;flex-grow: 1;}#sk-container-id-2 div.sk-label:hover label.sk-toggleable__label {background-color: #d4ebff;}#sk-container-id-2 div.sk-serial::before {content: \"\";position: absolute;border-left: 1px solid gray;box-sizing: border-box;top: 0;bottom: 0;left: 50%;z-index: 0;}#sk-container-id-2 div.sk-serial {display: flex;flex-direction: column;align-items: center;background-color: white;padding-right: 0.2em;padding-left: 0.2em;position: relative;}#sk-container-id-2 div.sk-item {position: relative;z-index: 1;}#sk-container-id-2 div.sk-parallel {display: flex;align-items: stretch;justify-content: center;background-color: white;position: relative;}#sk-container-id-2 div.sk-item::before, #sk-container-id-2 div.sk-parallel-item::before {content: \"\";position: absolute;border-left: 1px solid gray;box-sizing: border-box;top: 0;bottom: 0;left: 50%;z-index: -1;}#sk-container-id-2 div.sk-parallel-item {display: flex;flex-direction: column;z-index: 1;position: relative;background-color: white;}#sk-container-id-2 div.sk-parallel-item:first-child::after {align-self: flex-end;width: 50%;}#sk-container-id-2 div.sk-parallel-item:last-child::after {align-self: flex-start;width: 50%;}#sk-container-id-2 div.sk-parallel-item:only-child::after {width: 0;}#sk-container-id-2 div.sk-dashed-wrapped {border: 1px dashed gray;margin: 0 0.4em 0.5em 0.4em;box-sizing: border-box;padding-bottom: 0.4em;background-color: white;}#sk-container-id-2 div.sk-label label {font-family: monospace;font-weight: bold;display: inline-block;line-height: 1.2em;}#sk-container-id-2 div.sk-label-container {text-align: center;}#sk-container-id-2 div.sk-container {/* jupyter's `normalize.less` sets `[hidden] { display: none; }` but bootstrap.min.css set `[hidden] { display: none !important; }` so we also need the `!important` here to be able to override the default hidden behavior on the sphinx rendered scikit-learn.org. See: https://github.com/scikit-learn/scikit-learn/issues/21755 */display: inline-block !important;position: relative;}#sk-container-id-2 div.sk-text-repr-fallback {display: none;}</style><div id=\"sk-container-id-2\" class=\"sk-top-container\"><div class=\"sk-text-repr-fallback\"><pre>GridSearchCV(cv=StratifiedKFold(n_splits=5, random_state=0, shuffle=True),\n",
       "             estimator=LGBMClassifier(), n_jobs=-1,\n",
       "             param_grid={&#x27;learning_rate&#x27;: [0.001, 0.01, 0.1, 0.2, 0.3, 0.4,\n",
       "                                           0.5],\n",
       "                         &#x27;max_depth&#x27;: [4, 5, 6, 7, 8, 9, 10],\n",
       "                         &#x27;n_estimators&#x27;: [20, 30, 40, 50, 60, 70, 80, 90, 100],\n",
       "                         &#x27;num_leaves&#x27;: [20, 30, 40, 50, 60, 70, 80, 90, 100]},\n",
       "             scoring=&#x27;accuracy&#x27;, verbose=1)</pre><b>In a Jupyter environment, please rerun this cell to show the HTML representation or trust the notebook. <br />On GitHub, the HTML representation is unable to render, please try loading this page with nbviewer.org.</b></div><div class=\"sk-container\" hidden><div class=\"sk-item sk-dashed-wrapped\"><div class=\"sk-label-container\"><div class=\"sk-label sk-toggleable\"><input class=\"sk-toggleable__control sk-hidden--visually\" id=\"sk-estimator-id-4\" type=\"checkbox\" ><label for=\"sk-estimator-id-4\" class=\"sk-toggleable__label sk-toggleable__label-arrow\">GridSearchCV</label><div class=\"sk-toggleable__content\"><pre>GridSearchCV(cv=StratifiedKFold(n_splits=5, random_state=0, shuffle=True),\n",
       "             estimator=LGBMClassifier(), n_jobs=-1,\n",
       "             param_grid={&#x27;learning_rate&#x27;: [0.001, 0.01, 0.1, 0.2, 0.3, 0.4,\n",
       "                                           0.5],\n",
       "                         &#x27;max_depth&#x27;: [4, 5, 6, 7, 8, 9, 10],\n",
       "                         &#x27;n_estimators&#x27;: [20, 30, 40, 50, 60, 70, 80, 90, 100],\n",
       "                         &#x27;num_leaves&#x27;: [20, 30, 40, 50, 60, 70, 80, 90, 100]},\n",
       "             scoring=&#x27;accuracy&#x27;, verbose=1)</pre></div></div></div><div class=\"sk-parallel\"><div class=\"sk-parallel-item\"><div class=\"sk-item\"><div class=\"sk-label-container\"><div class=\"sk-label sk-toggleable\"><input class=\"sk-toggleable__control sk-hidden--visually\" id=\"sk-estimator-id-5\" type=\"checkbox\" ><label for=\"sk-estimator-id-5\" class=\"sk-toggleable__label sk-toggleable__label-arrow\">estimator: LGBMClassifier</label><div class=\"sk-toggleable__content\"><pre>LGBMClassifier()</pre></div></div></div><div class=\"sk-serial\"><div class=\"sk-item\"><div class=\"sk-estimator sk-toggleable\"><input class=\"sk-toggleable__control sk-hidden--visually\" id=\"sk-estimator-id-6\" type=\"checkbox\" ><label for=\"sk-estimator-id-6\" class=\"sk-toggleable__label sk-toggleable__label-arrow\">LGBMClassifier</label><div class=\"sk-toggleable__content\"><pre>LGBMClassifier()</pre></div></div></div></div></div></div></div></div></div></div>"
      ],
      "text/plain": [
       "GridSearchCV(cv=StratifiedKFold(n_splits=5, random_state=0, shuffle=True),\n",
       "             estimator=LGBMClassifier(), n_jobs=-1,\n",
       "             param_grid={'learning_rate': [0.001, 0.01, 0.1, 0.2, 0.3, 0.4,\n",
       "                                           0.5],\n",
       "                         'max_depth': [4, 5, 6, 7, 8, 9, 10],\n",
       "                         'n_estimators': [20, 30, 40, 50, 60, 70, 80, 90, 100],\n",
       "                         'num_leaves': [20, 30, 40, 50, 60, 70, 80, 90, 100]},\n",
       "             scoring='accuracy', verbose=1)"
      ]
     },
     "execution_count": 8,
     "metadata": {},
     "output_type": "execute_result"
    }
   ],
   "source": [
    "gscv_lgb.fit(DevelopmentSet_X, DevelopmentSet_Y)"
   ]
  },
  {
   "cell_type": "code",
   "execution_count": 9,
   "id": "7b3eae73-dbab-45bb-b4e7-3fe62290d337",
   "metadata": {},
   "outputs": [
    {
     "name": "stdout",
     "output_type": "stream",
     "text": [
      "LGB parameter:  {'learning_rate': 0.5, 'max_depth': 9, 'n_estimators': 100, 'num_leaves': 70}\n",
      "LGB prediction accuracy: 0.8915\n"
     ]
    }
   ],
   "source": [
    "print('LGB parameter: ', gscv_lgb.best_params_)\n",
    "print('LGB prediction accuracy: {:.4f}'.format(gscv_lgb.best_score_))"
   ]
  },
  {
   "cell_type": "code",
   "execution_count": 10,
   "id": "e7c2bc04-1d7e-4d23-93af-62bf375b9702",
   "metadata": {},
   "outputs": [
    {
     "name": "stdout",
     "output_type": "stream",
     "text": [
      "Fitting 5 folds for each of 2900 candidates, totalling 14500 fits\n"
     ]
    },
    {
     "data": {
      "text/html": [
       "<style>#sk-container-id-3 {color: black;background-color: white;}#sk-container-id-3 pre{padding: 0;}#sk-container-id-3 div.sk-toggleable {background-color: white;}#sk-container-id-3 label.sk-toggleable__label {cursor: pointer;display: block;width: 100%;margin-bottom: 0;padding: 0.3em;box-sizing: border-box;text-align: center;}#sk-container-id-3 label.sk-toggleable__label-arrow:before {content: \"▸\";float: left;margin-right: 0.25em;color: #696969;}#sk-container-id-3 label.sk-toggleable__label-arrow:hover:before {color: black;}#sk-container-id-3 div.sk-estimator:hover label.sk-toggleable__label-arrow:before {color: black;}#sk-container-id-3 div.sk-toggleable__content {max-height: 0;max-width: 0;overflow: hidden;text-align: left;background-color: #f0f8ff;}#sk-container-id-3 div.sk-toggleable__content pre {margin: 0.2em;color: black;border-radius: 0.25em;background-color: #f0f8ff;}#sk-container-id-3 input.sk-toggleable__control:checked~div.sk-toggleable__content {max-height: 200px;max-width: 100%;overflow: auto;}#sk-container-id-3 input.sk-toggleable__control:checked~label.sk-toggleable__label-arrow:before {content: \"▾\";}#sk-container-id-3 div.sk-estimator input.sk-toggleable__control:checked~label.sk-toggleable__label {background-color: #d4ebff;}#sk-container-id-3 div.sk-label input.sk-toggleable__control:checked~label.sk-toggleable__label {background-color: #d4ebff;}#sk-container-id-3 input.sk-hidden--visually {border: 0;clip: rect(1px 1px 1px 1px);clip: rect(1px, 1px, 1px, 1px);height: 1px;margin: -1px;overflow: hidden;padding: 0;position: absolute;width: 1px;}#sk-container-id-3 div.sk-estimator {font-family: monospace;background-color: #f0f8ff;border: 1px dotted black;border-radius: 0.25em;box-sizing: border-box;margin-bottom: 0.5em;}#sk-container-id-3 div.sk-estimator:hover {background-color: #d4ebff;}#sk-container-id-3 div.sk-parallel-item::after {content: \"\";width: 100%;border-bottom: 1px solid gray;flex-grow: 1;}#sk-container-id-3 div.sk-label:hover label.sk-toggleable__label {background-color: #d4ebff;}#sk-container-id-3 div.sk-serial::before {content: \"\";position: absolute;border-left: 1px solid gray;box-sizing: border-box;top: 0;bottom: 0;left: 50%;z-index: 0;}#sk-container-id-3 div.sk-serial {display: flex;flex-direction: column;align-items: center;background-color: white;padding-right: 0.2em;padding-left: 0.2em;position: relative;}#sk-container-id-3 div.sk-item {position: relative;z-index: 1;}#sk-container-id-3 div.sk-parallel {display: flex;align-items: stretch;justify-content: center;background-color: white;position: relative;}#sk-container-id-3 div.sk-item::before, #sk-container-id-3 div.sk-parallel-item::before {content: \"\";position: absolute;border-left: 1px solid gray;box-sizing: border-box;top: 0;bottom: 0;left: 50%;z-index: -1;}#sk-container-id-3 div.sk-parallel-item {display: flex;flex-direction: column;z-index: 1;position: relative;background-color: white;}#sk-container-id-3 div.sk-parallel-item:first-child::after {align-self: flex-end;width: 50%;}#sk-container-id-3 div.sk-parallel-item:last-child::after {align-self: flex-start;width: 50%;}#sk-container-id-3 div.sk-parallel-item:only-child::after {width: 0;}#sk-container-id-3 div.sk-dashed-wrapped {border: 1px dashed gray;margin: 0 0.4em 0.5em 0.4em;box-sizing: border-box;padding-bottom: 0.4em;background-color: white;}#sk-container-id-3 div.sk-label label {font-family: monospace;font-weight: bold;display: inline-block;line-height: 1.2em;}#sk-container-id-3 div.sk-label-container {text-align: center;}#sk-container-id-3 div.sk-container {/* jupyter's `normalize.less` sets `[hidden] { display: none; }` but bootstrap.min.css set `[hidden] { display: none !important; }` so we also need the `!important` here to be able to override the default hidden behavior on the sphinx rendered scikit-learn.org. See: https://github.com/scikit-learn/scikit-learn/issues/21755 */display: inline-block !important;position: relative;}#sk-container-id-3 div.sk-text-repr-fallback {display: none;}</style><div id=\"sk-container-id-3\" class=\"sk-top-container\"><div class=\"sk-text-repr-fallback\"><pre>GridSearchCV(cv=StratifiedKFold(n_splits=5, random_state=0, shuffle=True),\n",
       "             estimator=GradientBoostingClassifier(), n_jobs=-1,\n",
       "             param_grid={&#x27;learning_rate&#x27;: [0.01, 0.04, 0.07, 0.1, 0.12, 0.14,\n",
       "                                           0.16, 0.18, 0.2, 0.22, 0.24, 0.26,\n",
       "                                           0.28, 0.3, 0.35, 0.4, 0.45, 0.5,\n",
       "                                           0.55, 0.6],\n",
       "                         &#x27;max_depth&#x27;: [3, 4, 5, 6, 7],\n",
       "                         &#x27;n_estimators&#x27;: [10, 15, 20, 25, 30, 35, 40, 45, 50,\n",
       "                                          55, 60, 65, 70, 75, 80, 85, 90, 95,\n",
       "                                          100, 110, 120, 130, 140, 150, 160,\n",
       "                                          170, 180, 190, 200]},\n",
       "             scoring=&#x27;accuracy&#x27;, verbose=1)</pre><b>In a Jupyter environment, please rerun this cell to show the HTML representation or trust the notebook. <br />On GitHub, the HTML representation is unable to render, please try loading this page with nbviewer.org.</b></div><div class=\"sk-container\" hidden><div class=\"sk-item sk-dashed-wrapped\"><div class=\"sk-label-container\"><div class=\"sk-label sk-toggleable\"><input class=\"sk-toggleable__control sk-hidden--visually\" id=\"sk-estimator-id-7\" type=\"checkbox\" ><label for=\"sk-estimator-id-7\" class=\"sk-toggleable__label sk-toggleable__label-arrow\">GridSearchCV</label><div class=\"sk-toggleable__content\"><pre>GridSearchCV(cv=StratifiedKFold(n_splits=5, random_state=0, shuffle=True),\n",
       "             estimator=GradientBoostingClassifier(), n_jobs=-1,\n",
       "             param_grid={&#x27;learning_rate&#x27;: [0.01, 0.04, 0.07, 0.1, 0.12, 0.14,\n",
       "                                           0.16, 0.18, 0.2, 0.22, 0.24, 0.26,\n",
       "                                           0.28, 0.3, 0.35, 0.4, 0.45, 0.5,\n",
       "                                           0.55, 0.6],\n",
       "                         &#x27;max_depth&#x27;: [3, 4, 5, 6, 7],\n",
       "                         &#x27;n_estimators&#x27;: [10, 15, 20, 25, 30, 35, 40, 45, 50,\n",
       "                                          55, 60, 65, 70, 75, 80, 85, 90, 95,\n",
       "                                          100, 110, 120, 130, 140, 150, 160,\n",
       "                                          170, 180, 190, 200]},\n",
       "             scoring=&#x27;accuracy&#x27;, verbose=1)</pre></div></div></div><div class=\"sk-parallel\"><div class=\"sk-parallel-item\"><div class=\"sk-item\"><div class=\"sk-label-container\"><div class=\"sk-label sk-toggleable\"><input class=\"sk-toggleable__control sk-hidden--visually\" id=\"sk-estimator-id-8\" type=\"checkbox\" ><label for=\"sk-estimator-id-8\" class=\"sk-toggleable__label sk-toggleable__label-arrow\">estimator: GradientBoostingClassifier</label><div class=\"sk-toggleable__content\"><pre>GradientBoostingClassifier()</pre></div></div></div><div class=\"sk-serial\"><div class=\"sk-item\"><div class=\"sk-estimator sk-toggleable\"><input class=\"sk-toggleable__control sk-hidden--visually\" id=\"sk-estimator-id-9\" type=\"checkbox\" ><label for=\"sk-estimator-id-9\" class=\"sk-toggleable__label sk-toggleable__label-arrow\">GradientBoostingClassifier</label><div class=\"sk-toggleable__content\"><pre>GradientBoostingClassifier()</pre></div></div></div></div></div></div></div></div></div></div>"
      ],
      "text/plain": [
       "GridSearchCV(cv=StratifiedKFold(n_splits=5, random_state=0, shuffle=True),\n",
       "             estimator=GradientBoostingClassifier(), n_jobs=-1,\n",
       "             param_grid={'learning_rate': [0.01, 0.04, 0.07, 0.1, 0.12, 0.14,\n",
       "                                           0.16, 0.18, 0.2, 0.22, 0.24, 0.26,\n",
       "                                           0.28, 0.3, 0.35, 0.4, 0.45, 0.5,\n",
       "                                           0.55, 0.6],\n",
       "                         'max_depth': [3, 4, 5, 6, 7],\n",
       "                         'n_estimators': [10, 15, 20, 25, 30, 35, 40, 45, 50,\n",
       "                                          55, 60, 65, 70, 75, 80, 85, 90, 95,\n",
       "                                          100, 110, 120, 130, 140, 150, 160,\n",
       "                                          170, 180, 190, 200]},\n",
       "             scoring='accuracy', verbose=1)"
      ]
     },
     "execution_count": 10,
     "metadata": {},
     "output_type": "execute_result"
    }
   ],
   "source": [
    "gscv_gbm.fit(DevelopmentSet_X, DevelopmentSet_Y)"
   ]
  },
  {
   "cell_type": "code",
   "execution_count": 11,
   "id": "9d3c7376-3512-462d-8017-16f73a835e9e",
   "metadata": {},
   "outputs": [
    {
     "name": "stdout",
     "output_type": "stream",
     "text": [
      "GBM parameter:  {'learning_rate': 0.2, 'max_depth': 4, 'n_estimators': 35}\n",
      "GBM prediction accuracy: 0.8906\n"
     ]
    }
   ],
   "source": [
    "print('GBM parameter: ', gscv_gbm.best_params_)\n",
    "print('GBM prediction accuracy: {:.4f}'.format(gscv_gbm.best_score_))"
   ]
  },
  {
   "cell_type": "code",
   "execution_count": 12,
   "id": "bb16a132-d155-4d81-bfa7-0d6b5a6bcd86",
   "metadata": {},
   "outputs": [
    {
     "name": "stdout",
     "output_type": "stream",
     "text": [
      "Fitting 5 folds for each of 1872 candidates, totalling 9360 fits\n"
     ]
    },
    {
     "data": {
      "text/html": [
       "<style>#sk-container-id-4 {color: black;background-color: white;}#sk-container-id-4 pre{padding: 0;}#sk-container-id-4 div.sk-toggleable {background-color: white;}#sk-container-id-4 label.sk-toggleable__label {cursor: pointer;display: block;width: 100%;margin-bottom: 0;padding: 0.3em;box-sizing: border-box;text-align: center;}#sk-container-id-4 label.sk-toggleable__label-arrow:before {content: \"▸\";float: left;margin-right: 0.25em;color: #696969;}#sk-container-id-4 label.sk-toggleable__label-arrow:hover:before {color: black;}#sk-container-id-4 div.sk-estimator:hover label.sk-toggleable__label-arrow:before {color: black;}#sk-container-id-4 div.sk-toggleable__content {max-height: 0;max-width: 0;overflow: hidden;text-align: left;background-color: #f0f8ff;}#sk-container-id-4 div.sk-toggleable__content pre {margin: 0.2em;color: black;border-radius: 0.25em;background-color: #f0f8ff;}#sk-container-id-4 input.sk-toggleable__control:checked~div.sk-toggleable__content {max-height: 200px;max-width: 100%;overflow: auto;}#sk-container-id-4 input.sk-toggleable__control:checked~label.sk-toggleable__label-arrow:before {content: \"▾\";}#sk-container-id-4 div.sk-estimator input.sk-toggleable__control:checked~label.sk-toggleable__label {background-color: #d4ebff;}#sk-container-id-4 div.sk-label input.sk-toggleable__control:checked~label.sk-toggleable__label {background-color: #d4ebff;}#sk-container-id-4 input.sk-hidden--visually {border: 0;clip: rect(1px 1px 1px 1px);clip: rect(1px, 1px, 1px, 1px);height: 1px;margin: -1px;overflow: hidden;padding: 0;position: absolute;width: 1px;}#sk-container-id-4 div.sk-estimator {font-family: monospace;background-color: #f0f8ff;border: 1px dotted black;border-radius: 0.25em;box-sizing: border-box;margin-bottom: 0.5em;}#sk-container-id-4 div.sk-estimator:hover {background-color: #d4ebff;}#sk-container-id-4 div.sk-parallel-item::after {content: \"\";width: 100%;border-bottom: 1px solid gray;flex-grow: 1;}#sk-container-id-4 div.sk-label:hover label.sk-toggleable__label {background-color: #d4ebff;}#sk-container-id-4 div.sk-serial::before {content: \"\";position: absolute;border-left: 1px solid gray;box-sizing: border-box;top: 0;bottom: 0;left: 50%;z-index: 0;}#sk-container-id-4 div.sk-serial {display: flex;flex-direction: column;align-items: center;background-color: white;padding-right: 0.2em;padding-left: 0.2em;position: relative;}#sk-container-id-4 div.sk-item {position: relative;z-index: 1;}#sk-container-id-4 div.sk-parallel {display: flex;align-items: stretch;justify-content: center;background-color: white;position: relative;}#sk-container-id-4 div.sk-item::before, #sk-container-id-4 div.sk-parallel-item::before {content: \"\";position: absolute;border-left: 1px solid gray;box-sizing: border-box;top: 0;bottom: 0;left: 50%;z-index: -1;}#sk-container-id-4 div.sk-parallel-item {display: flex;flex-direction: column;z-index: 1;position: relative;background-color: white;}#sk-container-id-4 div.sk-parallel-item:first-child::after {align-self: flex-end;width: 50%;}#sk-container-id-4 div.sk-parallel-item:last-child::after {align-self: flex-start;width: 50%;}#sk-container-id-4 div.sk-parallel-item:only-child::after {width: 0;}#sk-container-id-4 div.sk-dashed-wrapped {border: 1px dashed gray;margin: 0 0.4em 0.5em 0.4em;box-sizing: border-box;padding-bottom: 0.4em;background-color: white;}#sk-container-id-4 div.sk-label label {font-family: monospace;font-weight: bold;display: inline-block;line-height: 1.2em;}#sk-container-id-4 div.sk-label-container {text-align: center;}#sk-container-id-4 div.sk-container {/* jupyter's `normalize.less` sets `[hidden] { display: none; }` but bootstrap.min.css set `[hidden] { display: none !important; }` so we also need the `!important` here to be able to override the default hidden behavior on the sphinx rendered scikit-learn.org. See: https://github.com/scikit-learn/scikit-learn/issues/21755 */display: inline-block !important;position: relative;}#sk-container-id-4 div.sk-text-repr-fallback {display: none;}</style><div id=\"sk-container-id-4\" class=\"sk-top-container\"><div class=\"sk-text-repr-fallback\"><pre>GridSearchCV(cv=StratifiedKFold(n_splits=5, random_state=0, shuffle=True),\n",
       "             estimator=LogisticRegression(), n_jobs=-1,\n",
       "             param_grid={&#x27;C&#x27;: [0.0001, 0.0005, 0.001, 0.002, 0.003, 0.004,\n",
       "                               0.005, 0.006, 0.007, 0.008, 0.009, 0.01, 0.02,\n",
       "                               0.03, 0.04, 0.05, 0.06, 0.07, 0.08, 0.09, 0.1,\n",
       "                               0.15, 0.2, 0.25, 0.3, 0.35, 0.4, 0.45, 0.5, 0.55, ...],\n",
       "                         &#x27;max_iter&#x27;: [100, 110, 120, 130, 140, 150, 160, 170,\n",
       "                                      180, 190, 200, 210, 220, 230, 240, 250,\n",
       "                                      270, 290, 300, 320, 340, 360, 380, 400],\n",
       "                         &#x27;penalty&#x27;: [&#x27;l2&#x27;, &#x27;l1&#x27;], &#x27;solver&#x27;: [&#x27;liblinear&#x27;]},\n",
       "             scoring=&#x27;accuracy&#x27;, verbose=1)</pre><b>In a Jupyter environment, please rerun this cell to show the HTML representation or trust the notebook. <br />On GitHub, the HTML representation is unable to render, please try loading this page with nbviewer.org.</b></div><div class=\"sk-container\" hidden><div class=\"sk-item sk-dashed-wrapped\"><div class=\"sk-label-container\"><div class=\"sk-label sk-toggleable\"><input class=\"sk-toggleable__control sk-hidden--visually\" id=\"sk-estimator-id-10\" type=\"checkbox\" ><label for=\"sk-estimator-id-10\" class=\"sk-toggleable__label sk-toggleable__label-arrow\">GridSearchCV</label><div class=\"sk-toggleable__content\"><pre>GridSearchCV(cv=StratifiedKFold(n_splits=5, random_state=0, shuffle=True),\n",
       "             estimator=LogisticRegression(), n_jobs=-1,\n",
       "             param_grid={&#x27;C&#x27;: [0.0001, 0.0005, 0.001, 0.002, 0.003, 0.004,\n",
       "                               0.005, 0.006, 0.007, 0.008, 0.009, 0.01, 0.02,\n",
       "                               0.03, 0.04, 0.05, 0.06, 0.07, 0.08, 0.09, 0.1,\n",
       "                               0.15, 0.2, 0.25, 0.3, 0.35, 0.4, 0.45, 0.5, 0.55, ...],\n",
       "                         &#x27;max_iter&#x27;: [100, 110, 120, 130, 140, 150, 160, 170,\n",
       "                                      180, 190, 200, 210, 220, 230, 240, 250,\n",
       "                                      270, 290, 300, 320, 340, 360, 380, 400],\n",
       "                         &#x27;penalty&#x27;: [&#x27;l2&#x27;, &#x27;l1&#x27;], &#x27;solver&#x27;: [&#x27;liblinear&#x27;]},\n",
       "             scoring=&#x27;accuracy&#x27;, verbose=1)</pre></div></div></div><div class=\"sk-parallel\"><div class=\"sk-parallel-item\"><div class=\"sk-item\"><div class=\"sk-label-container\"><div class=\"sk-label sk-toggleable\"><input class=\"sk-toggleable__control sk-hidden--visually\" id=\"sk-estimator-id-11\" type=\"checkbox\" ><label for=\"sk-estimator-id-11\" class=\"sk-toggleable__label sk-toggleable__label-arrow\">estimator: LogisticRegression</label><div class=\"sk-toggleable__content\"><pre>LogisticRegression()</pre></div></div></div><div class=\"sk-serial\"><div class=\"sk-item\"><div class=\"sk-estimator sk-toggleable\"><input class=\"sk-toggleable__control sk-hidden--visually\" id=\"sk-estimator-id-12\" type=\"checkbox\" ><label for=\"sk-estimator-id-12\" class=\"sk-toggleable__label sk-toggleable__label-arrow\">LogisticRegression</label><div class=\"sk-toggleable__content\"><pre>LogisticRegression()</pre></div></div></div></div></div></div></div></div></div></div>"
      ],
      "text/plain": [
       "GridSearchCV(cv=StratifiedKFold(n_splits=5, random_state=0, shuffle=True),\n",
       "             estimator=LogisticRegression(), n_jobs=-1,\n",
       "             param_grid={'C': [0.0001, 0.0005, 0.001, 0.002, 0.003, 0.004,\n",
       "                               0.005, 0.006, 0.007, 0.008, 0.009, 0.01, 0.02,\n",
       "                               0.03, 0.04, 0.05, 0.06, 0.07, 0.08, 0.09, 0.1,\n",
       "                               0.15, 0.2, 0.25, 0.3, 0.35, 0.4, 0.45, 0.5, 0.55, ...],\n",
       "                         'max_iter': [100, 110, 120, 130, 140, 150, 160, 170,\n",
       "                                      180, 190, 200, 210, 220, 230, 240, 250,\n",
       "                                      270, 290, 300, 320, 340, 360, 380, 400],\n",
       "                         'penalty': ['l2', 'l1'], 'solver': ['liblinear']},\n",
       "             scoring='accuracy', verbose=1)"
      ]
     },
     "execution_count": 12,
     "metadata": {},
     "output_type": "execute_result"
    }
   ],
   "source": [
    "gscv_mlr.fit(DevelopmentSet_X, DevelopmentSet_Y)"
   ]
  },
  {
   "cell_type": "code",
   "execution_count": 13,
   "id": "39be8c95-1a1a-4e0b-8f67-ca163fdc37a8",
   "metadata": {},
   "outputs": [
    {
     "name": "stdout",
     "output_type": "stream",
     "text": [
      "MLR parameter:  {'C': 0.005, 'max_iter': 100, 'penalty': 'l2', 'solver': 'liblinear'}\n",
      "MLR prediction accuracy: 0.8827\n"
     ]
    }
   ],
   "source": [
    "print('MLR parameter: ', gscv_mlr.best_params_)\n",
    "print('MLR prediction accuracy: {:.4f}'.format(gscv_mlr.best_score_))"
   ]
  },
  {
   "cell_type": "code",
   "execution_count": 14,
   "id": "5624f583-18e9-468e-8c6c-49fa01875ae3",
   "metadata": {},
   "outputs": [
    {
     "name": "stdout",
     "output_type": "stream",
     "text": [
      "Fitting 5 folds for each of 3960 candidates, totalling 19800 fits\n"
     ]
    },
    {
     "data": {
      "text/html": [
       "<style>#sk-container-id-5 {color: black;background-color: white;}#sk-container-id-5 pre{padding: 0;}#sk-container-id-5 div.sk-toggleable {background-color: white;}#sk-container-id-5 label.sk-toggleable__label {cursor: pointer;display: block;width: 100%;margin-bottom: 0;padding: 0.3em;box-sizing: border-box;text-align: center;}#sk-container-id-5 label.sk-toggleable__label-arrow:before {content: \"▸\";float: left;margin-right: 0.25em;color: #696969;}#sk-container-id-5 label.sk-toggleable__label-arrow:hover:before {color: black;}#sk-container-id-5 div.sk-estimator:hover label.sk-toggleable__label-arrow:before {color: black;}#sk-container-id-5 div.sk-toggleable__content {max-height: 0;max-width: 0;overflow: hidden;text-align: left;background-color: #f0f8ff;}#sk-container-id-5 div.sk-toggleable__content pre {margin: 0.2em;color: black;border-radius: 0.25em;background-color: #f0f8ff;}#sk-container-id-5 input.sk-toggleable__control:checked~div.sk-toggleable__content {max-height: 200px;max-width: 100%;overflow: auto;}#sk-container-id-5 input.sk-toggleable__control:checked~label.sk-toggleable__label-arrow:before {content: \"▾\";}#sk-container-id-5 div.sk-estimator input.sk-toggleable__control:checked~label.sk-toggleable__label {background-color: #d4ebff;}#sk-container-id-5 div.sk-label input.sk-toggleable__control:checked~label.sk-toggleable__label {background-color: #d4ebff;}#sk-container-id-5 input.sk-hidden--visually {border: 0;clip: rect(1px 1px 1px 1px);clip: rect(1px, 1px, 1px, 1px);height: 1px;margin: -1px;overflow: hidden;padding: 0;position: absolute;width: 1px;}#sk-container-id-5 div.sk-estimator {font-family: monospace;background-color: #f0f8ff;border: 1px dotted black;border-radius: 0.25em;box-sizing: border-box;margin-bottom: 0.5em;}#sk-container-id-5 div.sk-estimator:hover {background-color: #d4ebff;}#sk-container-id-5 div.sk-parallel-item::after {content: \"\";width: 100%;border-bottom: 1px solid gray;flex-grow: 1;}#sk-container-id-5 div.sk-label:hover label.sk-toggleable__label {background-color: #d4ebff;}#sk-container-id-5 div.sk-serial::before {content: \"\";position: absolute;border-left: 1px solid gray;box-sizing: border-box;top: 0;bottom: 0;left: 50%;z-index: 0;}#sk-container-id-5 div.sk-serial {display: flex;flex-direction: column;align-items: center;background-color: white;padding-right: 0.2em;padding-left: 0.2em;position: relative;}#sk-container-id-5 div.sk-item {position: relative;z-index: 1;}#sk-container-id-5 div.sk-parallel {display: flex;align-items: stretch;justify-content: center;background-color: white;position: relative;}#sk-container-id-5 div.sk-item::before, #sk-container-id-5 div.sk-parallel-item::before {content: \"\";position: absolute;border-left: 1px solid gray;box-sizing: border-box;top: 0;bottom: 0;left: 50%;z-index: -1;}#sk-container-id-5 div.sk-parallel-item {display: flex;flex-direction: column;z-index: 1;position: relative;background-color: white;}#sk-container-id-5 div.sk-parallel-item:first-child::after {align-self: flex-end;width: 50%;}#sk-container-id-5 div.sk-parallel-item:last-child::after {align-self: flex-start;width: 50%;}#sk-container-id-5 div.sk-parallel-item:only-child::after {width: 0;}#sk-container-id-5 div.sk-dashed-wrapped {border: 1px dashed gray;margin: 0 0.4em 0.5em 0.4em;box-sizing: border-box;padding-bottom: 0.4em;background-color: white;}#sk-container-id-5 div.sk-label label {font-family: monospace;font-weight: bold;display: inline-block;line-height: 1.2em;}#sk-container-id-5 div.sk-label-container {text-align: center;}#sk-container-id-5 div.sk-container {/* jupyter's `normalize.less` sets `[hidden] { display: none; }` but bootstrap.min.css set `[hidden] { display: none !important; }` so we also need the `!important` here to be able to override the default hidden behavior on the sphinx rendered scikit-learn.org. See: https://github.com/scikit-learn/scikit-learn/issues/21755 */display: inline-block !important;position: relative;}#sk-container-id-5 div.sk-text-repr-fallback {display: none;}</style><div id=\"sk-container-id-5\" class=\"sk-top-container\"><div class=\"sk-text-repr-fallback\"><pre>GridSearchCV(cv=StratifiedKFold(n_splits=5, random_state=0, shuffle=True),\n",
       "             estimator=RandomForestClassifier(), n_jobs=-1,\n",
       "             param_grid={&#x27;criterion&#x27;: [&#x27;gini&#x27;, &#x27;entropy&#x27;],\n",
       "                         &#x27;max_depth&#x27;: [5, 7, 9, 11, 12, 13, 14, 15, 16, 17, 18],\n",
       "                         &#x27;max_features&#x27;: [&#x27;sqrt&#x27;, &#x27;log2&#x27;],\n",
       "                         &#x27;min_samples_split&#x27;: [2, 3, 4, 5, 6],\n",
       "                         &#x27;n_estimators&#x27;: [70, 75, 80, 85, 90, 95, 100, 105, 110,\n",
       "                                          120, 125, 130, 135, 140, 150, 160,\n",
       "                                          170, 180]},\n",
       "             scoring=&#x27;accuracy&#x27;, verbose=1)</pre><b>In a Jupyter environment, please rerun this cell to show the HTML representation or trust the notebook. <br />On GitHub, the HTML representation is unable to render, please try loading this page with nbviewer.org.</b></div><div class=\"sk-container\" hidden><div class=\"sk-item sk-dashed-wrapped\"><div class=\"sk-label-container\"><div class=\"sk-label sk-toggleable\"><input class=\"sk-toggleable__control sk-hidden--visually\" id=\"sk-estimator-id-13\" type=\"checkbox\" ><label for=\"sk-estimator-id-13\" class=\"sk-toggleable__label sk-toggleable__label-arrow\">GridSearchCV</label><div class=\"sk-toggleable__content\"><pre>GridSearchCV(cv=StratifiedKFold(n_splits=5, random_state=0, shuffle=True),\n",
       "             estimator=RandomForestClassifier(), n_jobs=-1,\n",
       "             param_grid={&#x27;criterion&#x27;: [&#x27;gini&#x27;, &#x27;entropy&#x27;],\n",
       "                         &#x27;max_depth&#x27;: [5, 7, 9, 11, 12, 13, 14, 15, 16, 17, 18],\n",
       "                         &#x27;max_features&#x27;: [&#x27;sqrt&#x27;, &#x27;log2&#x27;],\n",
       "                         &#x27;min_samples_split&#x27;: [2, 3, 4, 5, 6],\n",
       "                         &#x27;n_estimators&#x27;: [70, 75, 80, 85, 90, 95, 100, 105, 110,\n",
       "                                          120, 125, 130, 135, 140, 150, 160,\n",
       "                                          170, 180]},\n",
       "             scoring=&#x27;accuracy&#x27;, verbose=1)</pre></div></div></div><div class=\"sk-parallel\"><div class=\"sk-parallel-item\"><div class=\"sk-item\"><div class=\"sk-label-container\"><div class=\"sk-label sk-toggleable\"><input class=\"sk-toggleable__control sk-hidden--visually\" id=\"sk-estimator-id-14\" type=\"checkbox\" ><label for=\"sk-estimator-id-14\" class=\"sk-toggleable__label sk-toggleable__label-arrow\">estimator: RandomForestClassifier</label><div class=\"sk-toggleable__content\"><pre>RandomForestClassifier()</pre></div></div></div><div class=\"sk-serial\"><div class=\"sk-item\"><div class=\"sk-estimator sk-toggleable\"><input class=\"sk-toggleable__control sk-hidden--visually\" id=\"sk-estimator-id-15\" type=\"checkbox\" ><label for=\"sk-estimator-id-15\" class=\"sk-toggleable__label sk-toggleable__label-arrow\">RandomForestClassifier</label><div class=\"sk-toggleable__content\"><pre>RandomForestClassifier()</pre></div></div></div></div></div></div></div></div></div></div>"
      ],
      "text/plain": [
       "GridSearchCV(cv=StratifiedKFold(n_splits=5, random_state=0, shuffle=True),\n",
       "             estimator=RandomForestClassifier(), n_jobs=-1,\n",
       "             param_grid={'criterion': ['gini', 'entropy'],\n",
       "                         'max_depth': [5, 7, 9, 11, 12, 13, 14, 15, 16, 17, 18],\n",
       "                         'max_features': ['sqrt', 'log2'],\n",
       "                         'min_samples_split': [2, 3, 4, 5, 6],\n",
       "                         'n_estimators': [70, 75, 80, 85, 90, 95, 100, 105, 110,\n",
       "                                          120, 125, 130, 135, 140, 150, 160,\n",
       "                                          170, 180]},\n",
       "             scoring='accuracy', verbose=1)"
      ]
     },
     "execution_count": 14,
     "metadata": {},
     "output_type": "execute_result"
    }
   ],
   "source": [
    "gscv_rf.fit(DevelopmentSet_X, DevelopmentSet_Y)"
   ]
  },
  {
   "cell_type": "code",
   "execution_count": 15,
   "id": "68e1d56c-cfb2-4f08-ba1a-d38fcb5698a3",
   "metadata": {},
   "outputs": [
    {
     "name": "stdout",
     "output_type": "stream",
     "text": [
      "RF parameter:  {'criterion': 'entropy', 'max_depth': 15, 'max_features': 'sqrt', 'min_samples_split': 4, 'n_estimators': 70}\n",
      "RF prediction accuracy: 0.8927\n"
     ]
    }
   ],
   "source": [
    "print('RF parameter: ', gscv_rf.best_params_)\n",
    "print('RF prediction accuracy: {:.4f}'.format(gscv_rf.best_score_))"
   ]
  },
  {
   "cell_type": "code",
   "execution_count": 16,
   "id": "3ad1dc30-3550-4878-aefa-1db7fca4fe4f",
   "metadata": {},
   "outputs": [
    {
     "name": "stdout",
     "output_type": "stream",
     "text": [
      "Fitting 5 folds for each of 190 candidates, totalling 950 fits\n"
     ]
    },
    {
     "data": {
      "text/html": [
       "<style>#sk-container-id-6 {color: black;background-color: white;}#sk-container-id-6 pre{padding: 0;}#sk-container-id-6 div.sk-toggleable {background-color: white;}#sk-container-id-6 label.sk-toggleable__label {cursor: pointer;display: block;width: 100%;margin-bottom: 0;padding: 0.3em;box-sizing: border-box;text-align: center;}#sk-container-id-6 label.sk-toggleable__label-arrow:before {content: \"▸\";float: left;margin-right: 0.25em;color: #696969;}#sk-container-id-6 label.sk-toggleable__label-arrow:hover:before {color: black;}#sk-container-id-6 div.sk-estimator:hover label.sk-toggleable__label-arrow:before {color: black;}#sk-container-id-6 div.sk-toggleable__content {max-height: 0;max-width: 0;overflow: hidden;text-align: left;background-color: #f0f8ff;}#sk-container-id-6 div.sk-toggleable__content pre {margin: 0.2em;color: black;border-radius: 0.25em;background-color: #f0f8ff;}#sk-container-id-6 input.sk-toggleable__control:checked~div.sk-toggleable__content {max-height: 200px;max-width: 100%;overflow: auto;}#sk-container-id-6 input.sk-toggleable__control:checked~label.sk-toggleable__label-arrow:before {content: \"▾\";}#sk-container-id-6 div.sk-estimator input.sk-toggleable__control:checked~label.sk-toggleable__label {background-color: #d4ebff;}#sk-container-id-6 div.sk-label input.sk-toggleable__control:checked~label.sk-toggleable__label {background-color: #d4ebff;}#sk-container-id-6 input.sk-hidden--visually {border: 0;clip: rect(1px 1px 1px 1px);clip: rect(1px, 1px, 1px, 1px);height: 1px;margin: -1px;overflow: hidden;padding: 0;position: absolute;width: 1px;}#sk-container-id-6 div.sk-estimator {font-family: monospace;background-color: #f0f8ff;border: 1px dotted black;border-radius: 0.25em;box-sizing: border-box;margin-bottom: 0.5em;}#sk-container-id-6 div.sk-estimator:hover {background-color: #d4ebff;}#sk-container-id-6 div.sk-parallel-item::after {content: \"\";width: 100%;border-bottom: 1px solid gray;flex-grow: 1;}#sk-container-id-6 div.sk-label:hover label.sk-toggleable__label {background-color: #d4ebff;}#sk-container-id-6 div.sk-serial::before {content: \"\";position: absolute;border-left: 1px solid gray;box-sizing: border-box;top: 0;bottom: 0;left: 50%;z-index: 0;}#sk-container-id-6 div.sk-serial {display: flex;flex-direction: column;align-items: center;background-color: white;padding-right: 0.2em;padding-left: 0.2em;position: relative;}#sk-container-id-6 div.sk-item {position: relative;z-index: 1;}#sk-container-id-6 div.sk-parallel {display: flex;align-items: stretch;justify-content: center;background-color: white;position: relative;}#sk-container-id-6 div.sk-item::before, #sk-container-id-6 div.sk-parallel-item::before {content: \"\";position: absolute;border-left: 1px solid gray;box-sizing: border-box;top: 0;bottom: 0;left: 50%;z-index: -1;}#sk-container-id-6 div.sk-parallel-item {display: flex;flex-direction: column;z-index: 1;position: relative;background-color: white;}#sk-container-id-6 div.sk-parallel-item:first-child::after {align-self: flex-end;width: 50%;}#sk-container-id-6 div.sk-parallel-item:last-child::after {align-self: flex-start;width: 50%;}#sk-container-id-6 div.sk-parallel-item:only-child::after {width: 0;}#sk-container-id-6 div.sk-dashed-wrapped {border: 1px dashed gray;margin: 0 0.4em 0.5em 0.4em;box-sizing: border-box;padding-bottom: 0.4em;background-color: white;}#sk-container-id-6 div.sk-label label {font-family: monospace;font-weight: bold;display: inline-block;line-height: 1.2em;}#sk-container-id-6 div.sk-label-container {text-align: center;}#sk-container-id-6 div.sk-container {/* jupyter's `normalize.less` sets `[hidden] { display: none; }` but bootstrap.min.css set `[hidden] { display: none !important; }` so we also need the `!important` here to be able to override the default hidden behavior on the sphinx rendered scikit-learn.org. See: https://github.com/scikit-learn/scikit-learn/issues/21755 */display: inline-block !important;position: relative;}#sk-container-id-6 div.sk-text-repr-fallback {display: none;}</style><div id=\"sk-container-id-6\" class=\"sk-top-container\"><div class=\"sk-text-repr-fallback\"><pre>GridSearchCV(cv=StratifiedKFold(n_splits=5, random_state=0, shuffle=True),\n",
       "             estimator=SVC(), n_jobs=-1,\n",
       "             param_grid={&#x27;C&#x27;: [0.001, 0.005, 0.01, 0.02, 0.03, 0.04, 0.05, 0.06,\n",
       "                               0.07, 0.08, 0.09, 0.1, 0.15, 0.2, 0.25, 0.3,\n",
       "                               0.35, 0.4, 0.45, 0.5, 0.55, 0.6, 0.65, 0.7, 0.75,\n",
       "                               0.8, 0.85, 0.9, 0.95, 1, ...],\n",
       "                         &#x27;gamma&#x27;: [&#x27;scale&#x27;, &#x27;auto&#x27;], &#x27;kernel&#x27;: [&#x27;rbf&#x27;],\n",
       "                         &#x27;probability&#x27;: [True]},\n",
       "             scoring=&#x27;accuracy&#x27;, verbose=1)</pre><b>In a Jupyter environment, please rerun this cell to show the HTML representation or trust the notebook. <br />On GitHub, the HTML representation is unable to render, please try loading this page with nbviewer.org.</b></div><div class=\"sk-container\" hidden><div class=\"sk-item sk-dashed-wrapped\"><div class=\"sk-label-container\"><div class=\"sk-label sk-toggleable\"><input class=\"sk-toggleable__control sk-hidden--visually\" id=\"sk-estimator-id-16\" type=\"checkbox\" ><label for=\"sk-estimator-id-16\" class=\"sk-toggleable__label sk-toggleable__label-arrow\">GridSearchCV</label><div class=\"sk-toggleable__content\"><pre>GridSearchCV(cv=StratifiedKFold(n_splits=5, random_state=0, shuffle=True),\n",
       "             estimator=SVC(), n_jobs=-1,\n",
       "             param_grid={&#x27;C&#x27;: [0.001, 0.005, 0.01, 0.02, 0.03, 0.04, 0.05, 0.06,\n",
       "                               0.07, 0.08, 0.09, 0.1, 0.15, 0.2, 0.25, 0.3,\n",
       "                               0.35, 0.4, 0.45, 0.5, 0.55, 0.6, 0.65, 0.7, 0.75,\n",
       "                               0.8, 0.85, 0.9, 0.95, 1, ...],\n",
       "                         &#x27;gamma&#x27;: [&#x27;scale&#x27;, &#x27;auto&#x27;], &#x27;kernel&#x27;: [&#x27;rbf&#x27;],\n",
       "                         &#x27;probability&#x27;: [True]},\n",
       "             scoring=&#x27;accuracy&#x27;, verbose=1)</pre></div></div></div><div class=\"sk-parallel\"><div class=\"sk-parallel-item\"><div class=\"sk-item\"><div class=\"sk-label-container\"><div class=\"sk-label sk-toggleable\"><input class=\"sk-toggleable__control sk-hidden--visually\" id=\"sk-estimator-id-17\" type=\"checkbox\" ><label for=\"sk-estimator-id-17\" class=\"sk-toggleable__label sk-toggleable__label-arrow\">estimator: SVC</label><div class=\"sk-toggleable__content\"><pre>SVC()</pre></div></div></div><div class=\"sk-serial\"><div class=\"sk-item\"><div class=\"sk-estimator sk-toggleable\"><input class=\"sk-toggleable__control sk-hidden--visually\" id=\"sk-estimator-id-18\" type=\"checkbox\" ><label for=\"sk-estimator-id-18\" class=\"sk-toggleable__label sk-toggleable__label-arrow\">SVC</label><div class=\"sk-toggleable__content\"><pre>SVC()</pre></div></div></div></div></div></div></div></div></div></div>"
      ],
      "text/plain": [
       "GridSearchCV(cv=StratifiedKFold(n_splits=5, random_state=0, shuffle=True),\n",
       "             estimator=SVC(), n_jobs=-1,\n",
       "             param_grid={'C': [0.001, 0.005, 0.01, 0.02, 0.03, 0.04, 0.05, 0.06,\n",
       "                               0.07, 0.08, 0.09, 0.1, 0.15, 0.2, 0.25, 0.3,\n",
       "                               0.35, 0.4, 0.45, 0.5, 0.55, 0.6, 0.65, 0.7, 0.75,\n",
       "                               0.8, 0.85, 0.9, 0.95, 1, ...],\n",
       "                         'gamma': ['scale', 'auto'], 'kernel': ['rbf'],\n",
       "                         'probability': [True]},\n",
       "             scoring='accuracy', verbose=1)"
      ]
     },
     "execution_count": 16,
     "metadata": {},
     "output_type": "execute_result"
    }
   ],
   "source": [
    "gscv_svm.fit(DevelopmentSet_X, DevelopmentSet_Y)"
   ]
  },
  {
   "cell_type": "code",
   "execution_count": 17,
   "id": "04ac1658-c3f1-415c-9022-8bb19e1a9d4b",
   "metadata": {},
   "outputs": [
    {
     "name": "stdout",
     "output_type": "stream",
     "text": [
      "SVM parameter:  {'C': 0.8, 'gamma': 'auto', 'kernel': 'rbf', 'probability': True}\n",
      "SVM prediction accuracy: 0.8865\n"
     ]
    }
   ],
   "source": [
    "print('SVM parameter: ', gscv_svm.best_params_)\n",
    "print('SVM prediction accuracy: {:.4f}'.format(gscv_svm.best_score_))"
   ]
  },
  {
   "cell_type": "code",
   "execution_count": null,
   "id": "f8d2c359-0ab3-404a-9899-d9163a4f3b4b",
   "metadata": {},
   "outputs": [],
   "source": []
  }
 ],
 "metadata": {
  "kernelspec": {
   "display_name": "Python 3 (ipykernel)",
   "language": "python",
   "name": "python3"
  },
  "language_info": {
   "codemirror_mode": {
    "name": "ipython",
    "version": 3
   },
   "file_extension": ".py",
   "mimetype": "text/x-python",
   "name": "python",
   "nbconvert_exporter": "python",
   "pygments_lexer": "ipython3",
   "version": "3.9.16"
  }
 },
 "nbformat": 4,
 "nbformat_minor": 5
}
